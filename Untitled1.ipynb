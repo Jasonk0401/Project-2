{
 "cells": [
  {
   "cell_type": "code",
   "execution_count": 1,
   "metadata": {},
   "outputs": [],
   "source": [
    "import numpy as np\n",
    "import pandas as pd \n",
    "from tkinter import filedialog\n",
    "import matplotlib.pyplot as plt"
   ]
  },
  {
   "cell_type": "code",
   "execution_count": 2,
   "metadata": {
    "scrolled": true
   },
   "outputs": [
    {
     "name": "stdout",
     "output_type": "stream",
     "text": [
      "['INZ3UM.ASC', 'GAZ3UM.ASC', 'ALZ3UM.ASC', 'ZNO3UM3.ASC']\n"
     ]
    }
   ],
   "source": [
    "#combining files \n",
    "import os\n",
    "file_location = os.path.join('*.ASC')\n",
    "import glob\n",
    "filenames = glob.glob(file_location)\n",
    "print(filenames)"
   ]
  },
  {
   "cell_type": "code",
   "execution_count": null,
   "metadata": {},
   "outputs": [],
   "source": []
  },
  {
   "cell_type": "code",
   "execution_count": 3,
   "metadata": {},
   "outputs": [],
   "source": [
    "with open('output.csv', 'w') as writer:\n",
    "    readers = [open(filename) for filename in filenames]\n",
    "    for lines in zip(*readers):\n",
    "        print(' '.join([line.strip() for line in lines]), file=writer)"
   ]
  },
  {
   "cell_type": "code",
   "execution_count": 4,
   "metadata": {
    "scrolled": false
   },
   "outputs": [
    {
     "name": "stdout",
     "output_type": "stream",
     "text": [
      "     Wavelength  Intensity  Wavelength.1  Intensity.1  Wavelength.2  \\\n",
      "0     552.80539      898.0     552.80539        637.0     552.80539   \n",
      "1     552.87541      941.0     552.87541        672.0     552.87541   \n",
      "2     552.94543      942.0     552.94543        591.0     552.94543   \n",
      "3     553.01545      886.0     553.01545        585.0     553.01545   \n",
      "4     553.08546      968.0     553.08546        669.0     553.08546   \n",
      "..          ...        ...           ...          ...           ...   \n",
      "272   571.76997     1472.0     571.76997       1052.0     571.76997   \n",
      "273   571.83939     1486.0     571.83939       1002.0     571.83939   \n",
      "274   571.90881     1524.0     571.90881       1058.0     571.90881   \n",
      "275   571.97823     1502.0     571.97823       1118.0     571.97823   \n",
      "276   572.04764     1794.0     572.04764       1317.0     572.04764   \n",
      "\n",
      "     Intensity.2  Wavelength.3  Intensity.3  \n",
      "0         2708.0     552.80539       1000.0  \n",
      "1         2675.0     552.87541        993.0  \n",
      "2         2532.0     552.94543        946.0  \n",
      "3         2599.0     553.01545       1017.0  \n",
      "4         2703.0     553.08546       1009.0  \n",
      "..           ...           ...          ...  \n",
      "272       3334.0     571.76997       1257.0  \n",
      "273       3487.0     571.83939       1289.0  \n",
      "274       3442.0     571.90881       1311.0  \n",
      "275       3416.0     571.97823       1260.0  \n",
      "276       3723.0     572.04764       1577.0  \n",
      "\n",
      "[277 rows x 8 columns]\n"
     ]
    }
   ],
   "source": [
    "#reading combined file and cleaning up data\n",
    "df=pd.read_csv('output.csv', usecols=[0,2,3,5,6,8,9,11], skipinitialspace=True, skiprows=[i for i in range (1,300)])\n",
    "print(df)"
   ]
  },
  {
   "cell_type": "code",
   "execution_count": 5,
   "metadata": {
    "scrolled": true
   },
   "outputs": [
    {
     "name": "stdout",
     "output_type": "stream",
     "text": [
      "     Intensity  Intensity.1  Intensity.2  Intensity.3\n",
      "0        898.0        637.0       2708.0       1000.0\n",
      "1        941.0        672.0       2675.0        993.0\n",
      "2        942.0        591.0       2532.0        946.0\n",
      "3        886.0        585.0       2599.0       1017.0\n",
      "4        968.0        669.0       2703.0       1009.0\n",
      "..         ...          ...          ...          ...\n",
      "272     1472.0       1052.0       3334.0       1257.0\n",
      "273     1486.0       1002.0       3487.0       1289.0\n",
      "274     1524.0       1058.0       3442.0       1311.0\n",
      "275     1502.0       1118.0       3416.0       1260.0\n",
      "276     1794.0       1317.0       3723.0       1577.0\n",
      "\n",
      "[277 rows x 4 columns]\n"
     ]
    }
   ],
   "source": [
    "#seperating out Intensity to be normalized \n",
    "dp=pd.read_csv('output.csv',usecols=[2,5,8,11], skipinitialspace=True, skiprows=[i for i in range (1,300)])\n",
    "print(dp)"
   ]
  },
  {
   "cell_type": "code",
   "execution_count": 6,
   "metadata": {},
   "outputs": [],
   "source": [
    "#normalizing Intensity Data\n",
    "from sklearn import preprocessing "
   ]
  },
  {
   "cell_type": "code",
   "execution_count": 7,
   "metadata": {
    "scrolled": true
   },
   "outputs": [
    {
     "name": "stdout",
     "output_type": "stream",
     "text": [
      "Data=      Intensity  Intensity.1  Intensity.2  Intensity.3\n",
      "0        898.0        637.0       2708.0       1000.0\n",
      "1        941.0        672.0       2675.0        993.0\n",
      "2        942.0        591.0       2532.0        946.0\n",
      "3        886.0        585.0       2599.0       1017.0\n",
      "4        968.0        669.0       2703.0       1009.0\n",
      "..         ...          ...          ...          ...\n",
      "272     1472.0       1052.0       3334.0       1257.0\n",
      "273     1486.0       1002.0       3487.0       1289.0\n",
      "274     1524.0       1058.0       3442.0       1311.0\n",
      "275     1502.0       1118.0       3416.0       1260.0\n",
      "276     1794.0       1317.0       3723.0       1577.0\n",
      "\n",
      "[277 rows x 4 columns]\n",
      "Normalized Data= [[0.29065542 0.20617762 0.87649764 0.32366973]\n",
      " [0.30564292 0.21826997 0.8688574  0.32253286]\n",
      " [0.32229699 0.20220544 0.86630146 0.32366555]\n",
      " ...\n",
      " [0.36953708 0.25654215 0.83461065 0.31788918]\n",
      " [0.36685923 0.27306832 0.83434829 0.30775142]\n",
      " [0.38871088 0.28535799 0.80667257 0.34169289]]\n"
     ]
    }
   ],
   "source": [
    "a=dp\n",
    "print(\"Data=\",dp)\n",
    "normalized=preprocessing.normalize(a)\n",
    "print(\"Normalized Data=\", normalized)"
   ]
  },
  {
   "cell_type": "code",
   "execution_count": 8,
   "metadata": {},
   "outputs": [],
   "source": [
    "#list of lists csv file \n",
    "import csv\n",
    "with open(\"normalized_data.csv\",'w')as f:\n",
    "    writer = csv.writer(f)\n",
    "    writer.writerows(normalized)"
   ]
  },
  {
   "cell_type": "code",
   "execution_count": 9,
   "metadata": {},
   "outputs": [
    {
     "name": "stdout",
     "output_type": "stream",
     "text": [
      "            0         1         2         3\n",
      "0    0.290655  0.206178  0.876498  0.323670\n",
      "1    0.305643  0.218270  0.868857  0.322533\n",
      "2    0.322297  0.202205  0.866301  0.323666\n",
      "3    0.296716  0.195913  0.870390  0.340587\n",
      "4    0.310664  0.214705  0.867484  0.323822\n",
      "..        ...       ...       ...       ...\n",
      "272  0.368356  0.263254  0.834306  0.314554\n",
      "273  0.360060  0.242786  0.844905  0.312326\n",
      "274  0.369537  0.256542  0.834611  0.317889\n",
      "275  0.366859  0.273068  0.834348  0.307751\n",
      "276  0.388711  0.285358  0.806673  0.341693\n",
      "\n",
      "[277 rows x 4 columns]\n"
     ]
    }
   ],
   "source": [
    "#open normalized_data.csv to check it worked\n",
    "dn=pd.read_csv('normalized_data.csv',header=None)\n",
    "    #header=None keeps data from moving up a row \n",
    "dn.to_csv(\"normalized_data.csv\",header=filenames)\n",
    "print(dn)\n",
    "#filenames show up in place of 1,2,3,4 in text file but not here"
   ]
  },
  {
   "cell_type": "code",
   "execution_count": 10,
   "metadata": {
    "scrolled": false
   },
   "outputs": [
    {
     "name": "stdout",
     "output_type": "stream",
     "text": [
      "            0         1         2         3\n",
      "0    0.290655  0.206178  0.876498  0.323670\n",
      "1    0.305643  0.218270  0.868857  0.322533\n",
      "2    0.322297  0.202205  0.866301  0.323666\n",
      "3    0.296716  0.195913  0.870390  0.340587\n",
      "4    0.310664  0.214705  0.867484  0.323822\n",
      "..        ...       ...       ...       ...\n",
      "272  0.368356  0.263254  0.834306  0.314554\n",
      "273  0.360060  0.242786  0.844905  0.312326\n",
      "274  0.369537  0.256542  0.834611  0.317889\n",
      "275  0.366859  0.273068  0.834348  0.307751\n",
      "276  0.388711  0.285358  0.806673  0.341693\n",
      "\n",
      "[277 rows x 4 columns]\n"
     ]
    }
   ],
   "source": [
    "print(dn)"
   ]
  },
  {
   "cell_type": "code",
   "execution_count": 11,
   "metadata": {},
   "outputs": [
    {
     "data": {
      "text/plain": [
       "[<matplotlib.lines.Line2D at 0x7f6dbf5ff750>,\n",
       " <matplotlib.lines.Line2D at 0x7f6dbee33c90>,\n",
       " <matplotlib.lines.Line2D at 0x7f6dbee33e50>,\n",
       " <matplotlib.lines.Line2D at 0x7f6dbee33fd0>]"
      ]
     },
     "execution_count": 11,
     "metadata": {},
     "output_type": "execute_result"
    },
    {
     "data": {
      "image/png": "[encoded data removed]",
      "text/plain": [
       "<Figure size 432x288 with 1 Axes>"
      ]
     },
     "metadata": {
      "needs_background": "light"
     },
     "output_type": "display_data"
    }
   ],
   "source": [
    "#graphing new data\n",
    "plt.plot(dn)"
   ]
  },
  {
   "cell_type": "code",
   "execution_count": 14,
   "metadata": {},
   "outputs": [],
   "source": [
    "dw=pd.read_csv('output.csv', usecols=[0], skipinitialspace=True, skiprows=[i for i in range (1,300)])"
   ]
  },
  {
   "cell_type": "code",
   "execution_count": 25,
   "metadata": {},
   "outputs": [],
   "source": [
    "#Append Wavelength Column to Rest of Data "
   ]
  },
  {
   "cell_type": "code",
   "execution_count": null,
   "metadata": {},
   "outputs": [],
   "source": []
  },
  {
   "cell_type": "code",
   "execution_count": null,
   "metadata": {},
   "outputs": [],
   "source": []
  }
 ],
 "metadata": {
  "kernelspec": {
   "display_name": "Python 3",
   "language": "python",
   "name": "python3"
  },
  "language_info": {
   "codemirror_mode": {
    "name": "ipython",
    "version": 3
   },
   "file_extension": ".py",
   "mimetype": "text/x-python",
   "name": "python",
   "nbconvert_exporter": "python",
   "pygments_lexer": "ipython3",
   "version": "3.7.6"
  }
 },
 "nbformat": 4,
 "nbformat_minor": 4
}
