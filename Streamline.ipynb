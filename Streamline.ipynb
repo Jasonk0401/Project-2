{
 "cells": [
  {
   "cell_type": "code",
   "execution_count": 1,
   "metadata": {},
   "outputs": [],
   "source": [
    "#setup \n",
    "import numpy as np\n",
    "import pandas as pd \n",
    "from tkinter import filedialog\n",
    "import matplotlib.pyplot as plt\n",
    "import os \n",
    "import glob\n",
    "import csv\n",
    "import itertools"
   ]
  },
  {
   "cell_type": "code",
   "execution_count": 2,
   "metadata": {},
   "outputs": [
    {
     "name": "stdout",
     "output_type": "stream",
     "text": [
      "('/home/jasonk0401/Desktop/UpdatedProject/ALZ3UM.ASC', '/home/jasonk0401/Desktop/UpdatedProject/GAZ3UM.ASC')\n"
     ]
    }
   ],
   "source": [
    "#Dialog box \n",
    "initialdir='/Desktop/UROP/' #assign a directory \n",
    "filepaths= filedialog.askopenfilename(multiple=True, initialdir=initialdir,title='Select a File', filetypes=((\"ASC Files\",\".ASC\"),))\n",
    "#^opens dialogbox to select multiple files that end in .ASC\n",
    "print(filepaths)"
   ]
  },
  {
   "cell_type": "code",
   "execution_count": 3,
   "metadata": {},
   "outputs": [],
   "source": [
    "#for root, dirs, files in os.walk(initialdir):\n",
    "    #for names in files:\n",
    "       #print(names)"
   ]
  },
  {
   "cell_type": "code",
   "execution_count": 4,
   "metadata": {},
   "outputs": [],
   "source": [
    "#return filenames instead of full filepath\n",
    "# list_files(filepath, filetype):\n",
    "  #paths = []\n",
    "   #for root, dirs, files in os.walk(filepath):\n",
    "      #for name in files:\n",
    "         #if name.lower().endswith(nametype.lower()):\n",
    "            #paths.append(os.path.join(root, name))\n",
    "   #return(paths)"
   ]
  },
  {
   "cell_type": "code",
   "execution_count": 5,
   "metadata": {},
   "outputs": [],
   "source": [
    "#def list_files(filepath, filetype):\n",
    "    #paths=[]\n",
    "    #for root, dirs, files in os.walk(filepath):\n",
    "        #for name in files:\n",
    "            #if name.lower().endswith(filetype.lower()):\n",
    "                #paths.append(name)\n",
    "    #return(paths)"
   ]
  },
  {
   "cell_type": "code",
   "execution_count": 6,
   "metadata": {},
   "outputs": [],
   "source": [
    "#filenames= list_files(initialdir, '.asc')\n",
    "#print(filenames)"
   ]
  },
  {
   "cell_type": "code",
   "execution_count": 7,
   "metadata": {},
   "outputs": [
    {
     "name": "stdout",
     "output_type": "stream",
     "text": [
      "['ALZ3UM.ASC', 'GAZ3UM.ASC']\n"
     ]
    }
   ],
   "source": [
    "#shorten filepaths to just filenames \n",
    "filenames = []\n",
    "for path in filepaths:\n",
    "    name = path[40:].strip() \n",
    "    name2 = name[:].strip() \n",
    "    filenames.append(name2)\n",
    "print(filenames)"
   ]
  },
  {
   "cell_type": "code",
   "execution_count": 8,
   "metadata": {
    "scrolled": false
   },
   "outputs": [
    {
     "name": "stdout",
     "output_type": "stream",
     "text": [
      "     Wavelength  Intensity  Wavelength  Intensity\n",
      "0     531.77081   393210.0   531.77081   393210.0\n",
      "1     531.84149   393210.0   531.84149   393210.0\n",
      "2     531.91216   243432.0   531.91216   197919.0\n",
      "3     531.98284    26123.0   531.98284    22679.0\n",
      "4     532.05351    10128.0   532.05351    10607.0\n",
      "..          ...        ...         ...        ...\n",
      "571   571.76997     3334.0   571.76997     1052.0\n",
      "572   571.83939     3487.0   571.83939     1002.0\n",
      "573   571.90881     3442.0   571.90881     1058.0\n",
      "574   571.97823     3416.0   571.97823     1118.0\n",
      "575   572.04764     3723.0   572.04764     1317.0\n",
      "\n",
      "[576 rows x 4 columns]\n"
     ]
    }
   ],
   "source": [
    "#Compliling Files Into List of Lists\n",
    "df=pd.DataFrame()\n",
    "for element in filenames:\n",
    "    df2=pd.read_csv(element, usecols=['Wavelength','Intensity'])\n",
    "    df=pd.concat([df,df2], axis=1)\n",
    "print(df)"
   ]
  },
  {
   "cell_type": "code",
   "execution_count": 9,
   "metadata": {},
   "outputs": [
    {
     "name": "stdout",
     "output_type": "stream",
     "text": [
      "     Wavelength_1  Intensity_1  Wavelength_2  Intensity_2\n",
      "0       531.77081     393210.0     531.77081     393210.0\n",
      "1       531.84149     393210.0     531.84149     393210.0\n",
      "2       531.91216     243432.0     531.91216     197919.0\n",
      "3       531.98284      26123.0     531.98284      22679.0\n",
      "4       532.05351      10128.0     532.05351      10607.0\n",
      "..            ...          ...           ...          ...\n",
      "571     571.76997       3334.0     571.76997       1052.0\n",
      "572     571.83939       3487.0     571.83939       1002.0\n",
      "573     571.90881       3442.0     571.90881       1058.0\n",
      "574     571.97823       3416.0     571.97823       1118.0\n",
      "575     572.04764       3723.0     572.04764       1317.0\n",
      "\n",
      "[576 rows x 4 columns]\n"
     ]
    }
   ],
   "source": [
    "cols = []\n",
    "count = 1\n",
    "for column in df.columns:\n",
    "    if column=='Wavelength':\n",
    "        cols.append(f'Wavelength_{count}')\n",
    "        count+=1\n",
    "        continue\n",
    "    cols.append(column)\n",
    "df.columns = cols\n",
    "cols = []\n",
    "count = 1\n",
    "for column in df.columns:\n",
    "    if column=='Intensity':\n",
    "        cols.append(f'Intensity_{count}')\n",
    "        count+=1\n",
    "        continue\n",
    "    cols.append(column)\n",
    "df.columns = cols\n",
    "print(df)"
   ]
  },
  {
   "cell_type": "code",
   "execution_count": 10,
   "metadata": {},
   "outputs": [
    {
     "data": {
      "text/plain": [
       "Text(0, 0.5, 'Non-Normalized Intensity(a.u.)')"
      ]
     },
     "execution_count": 10,
     "metadata": {},
     "output_type": "execute_result"
    },
    {
     "data": {
      "image/png": "[encoded data removed]",
      "text/plain": [
       "<Figure size 432x288 with 1 Axes>"
      ]
     },
     "metadata": {
      "needs_background": "light"
     },
     "output_type": "display_data"
    }
   ],
   "source": [
    "#Plotting Raw Data\n",
    "test='Intensity'\n",
    "IntCols = [idx for idx in df if idx.lower().startswith(test.lower())]\n",
    "#print(IntCols)\n",
    "df.plot(x='Wavelength_1', y=IntCols)\n",
    "plt.title('Raw Data')\n",
    "plt.xlabel('Wavelength (nm)')\n",
    "plt.ylabel('Non-Normalized Intensity(a.u.)')"
   ]
  },
  {
   "cell_type": "code",
   "execution_count": 11,
   "metadata": {
    "scrolled": true
   },
   "outputs": [
    {
     "name": "stdout",
     "output_type": "stream",
     "text": [
      "     Wavelength_1  Intensity_1  Wavelength_2  Intensity_2\n",
      "0       535.30197          4.0     535.30197          0.0\n",
      "1       535.37254          0.0     535.37254          0.0\n",
      "2       535.44310          0.0     535.44310          3.0\n",
      "3       535.51367          0.0     535.51367         19.0\n",
      "4       535.58423          0.0     535.58423          0.0\n",
      "..            ...          ...           ...          ...\n",
      "521     571.76997       3334.0     571.76997       1052.0\n",
      "522     571.83939       3487.0     571.83939       1002.0\n",
      "523     571.90881       3442.0     571.90881       1058.0\n",
      "524     571.97823       3416.0     571.97823       1118.0\n",
      "525     572.04764       3723.0     572.04764       1317.0\n",
      "\n",
      "[526 rows x 4 columns]\n"
     ]
    }
   ],
   "source": [
    "#Skip first 300 rows to get rid of rayleigh line\n",
    "df=df.drop(df.index[0:50])\n",
    "#leaves rows as 250-575\n",
    "#reset index becasuse it causes problems later when concating \n",
    "df.reset_index(drop=True, inplace=True)\n",
    "print(df)"
   ]
  },
  {
   "cell_type": "code",
   "execution_count": 12,
   "metadata": {
    "scrolled": false
   },
   "outputs": [
    {
     "data": {
      "text/plain": [
       "Text(0, 0.5, 'Non-Normalized Intensity(a.u.)')"
      ]
     },
     "execution_count": 12,
     "metadata": {},
     "output_type": "execute_result"
    },
    {
     "data": {
      "image/png": "[encoded data removed]",
      "text/plain": [
       "<Figure size 432x288 with 1 Axes>"
      ]
     },
     "metadata": {
      "needs_background": "light"
     },
     "output_type": "display_data"
    }
   ],
   "source": [
    "#Plotting Non-Normalized w/out Rayleigh line n Wavelength (nm)\n",
    "test='Intensity'\n",
    "IntCols = [idx for idx in df if idx.lower().startswith(test.lower())]\n",
    "#print(IntCols)\n",
    "df.plot(x='Wavelength_1', y=IntCols)\n",
    "plt.title('Non-Normalized w/out Rayleigh line')\n",
    "plt.xlabel('Wavelength (nm)')\n",
    "plt.ylabel('Non-Normalized Intensity(a.u.)')"
   ]
  },
  {
   "cell_type": "code",
   "execution_count": 13,
   "metadata": {
    "scrolled": true
   },
   "outputs": [
    {
     "name": "stdout",
     "output_type": "stream",
     "text": [
      "     Wavelength_1  Intensity_1  Wavelength_2  Intensity_2\n",
      "0       535.30197     0.000079     535.30197     0.000000\n",
      "1       535.37254     0.000000     535.37254     0.000000\n",
      "2       535.44310     0.000000     535.44310     0.000043\n",
      "3       535.51367     0.000000     535.51367     0.000272\n",
      "4       535.58423     0.000000     535.58423     0.000000\n",
      "..            ...          ...           ...          ...\n",
      "521     571.76997     0.065654     571.76997     0.015049\n",
      "522     571.83939     0.068667     571.83939     0.014333\n",
      "523     571.90881     0.067781     571.90881     0.015134\n",
      "524     571.97823     0.067269     571.97823     0.015993\n",
      "525     572.04764     0.073315     572.04764     0.018839\n",
      "\n",
      "[526 rows x 4 columns]\n"
     ]
    }
   ],
   "source": [
    "#Wavelength (nm) and Normalized Intensity \n",
    "#create list of columns that start with Intensity\n",
    "test='Intensity'\n",
    "IntCols = [idx for idx in df if idx.lower().startswith(test.lower())]\n",
    "#for columns in df if they start with Intensity \n",
    "#apply calculation to columns that start with Intensity \n",
    "for col in df:\n",
    "    if col.startswith(test):\n",
    "        df[IntCols] = (df[IntCols].apply(lambda x: x/x.max())) #divide each number in a column by the max of that column\n",
    "print(df)"
   ]
  },
  {
   "cell_type": "code",
   "execution_count": 14,
   "metadata": {},
   "outputs": [
    {
     "data": {
      "text/plain": [
       "Text(0, 0.5, 'Normalized Intensity(a.u.)')"
      ]
     },
     "execution_count": 14,
     "metadata": {},
     "output_type": "execute_result"
    },
    {
     "data": {
      "image/png": "[encoded data removed]",
      "text/plain": [
       "<Figure size 432x288 with 1 Axes>"
      ]
     },
     "metadata": {
      "needs_background": "light"
     },
     "output_type": "display_data"
    }
   ],
   "source": [
    "#Plotting Normalized w/out Rayleigh line in Wavelength (nm)\n",
    "#probably dont need this everytime since IntCols is defined above\n",
    "test='Intensity'\n",
    "IntCols = [idx for idx in df if idx.lower().startswith(test.lower())]\n",
    "#print(IntCols)\n",
    "df.plot(x='Wavelength_1', y=IntCols)\n",
    "plt.title('Normalized w/out Rayleigh line')\n",
    "plt.xlabel('Wavelength (nm)')\n",
    "plt.ylabel('Normalized Intensity(a.u.)')"
   ]
  },
  {
   "cell_type": "code",
   "execution_count": 15,
   "metadata": {},
   "outputs": [],
   "source": [
    "#Wavenumber cm^-1 and Normalized Intensity \n",
    "#Excitation_Wavelength=531\n",
    "#a=10**7/Excitation_Wavelength\n",
    "#test='Wavelength'\n",
    "#WavCols = [idx for idx in df if idx.lower().startswith(test.lower())]\n",
    "#print(WavCols)\n",
    "#list of Wavelength column names\n",
    "#for cols in df:\n",
    "    #new_df = df.apply(lambda x: -10**7/x + a if x.name in [WavCols] else x)\n",
    "#print(new_df)                 "
   ]
  },
  {
   "cell_type": "code",
   "execution_count": 17,
   "metadata": {
    "scrolled": true
   },
   "outputs": [
    {
     "name": "stdout",
     "output_type": "stream",
     "text": [
      "     Wavelength_1  Intensity_1  Wavelength_2  Intensity_2\n",
      "0      115.947836     0.000079    115.947836     0.000000\n",
      "1      118.410274     0.000000    118.410274     0.000000\n",
      "2      120.871713     0.000000    120.871713     0.000043\n",
      "3      123.332853     0.000000    123.332853     0.000272\n",
      "4      125.792995     0.000000    125.792995     0.000000\n",
      "..            ...          ...           ...          ...\n",
      "521   1307.441570     0.065654   1307.441570     0.015049\n",
      "522   1309.564761     0.068667   1309.564761     0.014333\n",
      "523   1311.687438     0.067781   1311.687438     0.015134\n",
      "524   1313.809599     0.067269   1313.809599     0.015993\n",
      "525   1315.930939     0.073315   1315.930939     0.018839\n",
      "\n",
      "[526 rows x 4 columns]\n"
     ]
    }
   ],
   "source": [
    "#Wavenumber cm^-1 and Normalized Intensity \n",
    "#setup numbers for conversion \n",
    "test=\"Wavelength\"\n",
    "Excitation_Wavelength=532\n",
    "a=10**7/Excitation_Wavelength\n",
    "#for columns in df if they start with Intensity \n",
    "#apply calculation to columns that start with Intensity \n",
    "for col in df:\n",
    "    if col.startswith(test):\n",
    "        df[col]= (df[col].apply(lambda x:-10**7/x + a))\n",
    "print(df)"
   ]
  },
  {
   "cell_type": "code",
   "execution_count": 18,
   "metadata": {
    "scrolled": true
   },
   "outputs": [
    {
     "data": {
      "text/plain": [
       "Text(0, 0.5, 'Normalized Intensity(a.u.)')"
      ]
     },
     "execution_count": 18,
     "metadata": {},
     "output_type": "execute_result"
    },
    {
     "data": {
      "image/png": "[encoded data removed]",
      "text/plain": [
       "<Figure size 432x288 with 1 Axes>"
      ]
     },
     "metadata": {
      "needs_background": "light"
     },
     "output_type": "display_data"
    }
   ],
   "source": [
    "#Plotting Normalized w/out Rayleigh line in Wavenumber (cm^-1)\n",
    "test='Intensity'\n",
    "IntCols = [idx for idx in df if idx.lower().startswith(test.lower())]\n",
    "#print(IntCols)\n",
    "df.plot(x='Wavelength_1', y=IntCols)\n",
    "plt.title('Final')\n",
    "plt.xlabel('Raman Shift (cm^-1)')\n",
    "plt.ylabel('Normalized Intensity(a.u.)')"
   ]
  },
  {
   "cell_type": "code",
   "execution_count": null,
   "metadata": {},
   "outputs": [],
   "source": []
  },
  {
   "cell_type": "code",
   "execution_count": null,
   "metadata": {},
   "outputs": [],
   "source": []
  }
 ],
 "metadata": {
  "kernelspec": {
   "display_name": "Python 3",
   "language": "python",
   "name": "python3"
  },
  "language_info": {
   "codemirror_mode": {
    "name": "ipython",
    "version": 3
   },
   "file_extension": ".py",
   "mimetype": "text/x-python",
   "name": "python",
   "nbconvert_exporter": "python",
   "pygments_lexer": "ipython3",
   "version": "3.7.6"
  }
 },
 "nbformat": 4,
 "nbformat_minor": 4
}
