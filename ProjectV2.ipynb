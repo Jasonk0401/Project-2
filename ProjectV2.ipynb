{
 "cells": [
  {
   "cell_type": "code",
   "execution_count": 1,
   "metadata": {},
   "outputs": [],
   "source": [
    "#setup \n",
    "import numpy as np\n",
    "import pandas as pd \n",
    "from tkinter import filedialog\n",
    "import matplotlib.pyplot as plt\n",
    "import os \n",
    "import glob\n",
    "import csv\n",
    "import itertools"
   ]
  },
  {
   "cell_type": "code",
   "execution_count": 2,
   "metadata": {},
   "outputs": [],
   "source": [
    "#Dialog box \n",
    "#initialdir='/Desktop/UROP'\n",
    "#filename= filedialog.askopenfilename(initialdir=initialdir,title='Select a File', filetypes=((\"ASC Files\",\".ASC\"),))\n",
    "#How do you make this able to select multiple files during one opening\n",
    "#find a way to conjoin selected data files"
   ]
  },
  {
   "cell_type": "code",
   "execution_count": 3,
   "metadata": {},
   "outputs": [
    {
     "name": "stdout",
     "output_type": "stream",
     "text": [
      "['INZ3UM.ASC', 'GAZ3UM.ASC', 'ZNO3UM3.ASC']\n"
     ]
    }
   ],
   "source": [
    "file_location = os.path.join('*.ASC')\n",
    "filenames = glob.glob(file_location)\n",
    "print(filenames)\n",
    "#ALZ3UM.asc data seemed to be to be high and throwing off normalization \n",
    "    #so i prevented it from being selected at this part \n",
    "#go back into project file and change ALZ3UM.asc back to ALZ3UM.ASC"
   ]
  },
  {
   "cell_type": "code",
   "execution_count": 4,
   "metadata": {
    "scrolled": true
   },
   "outputs": [
    {
     "name": "stdout",
     "output_type": "stream",
     "text": [
      "[     Wavelength  Filler  Intensity  Unnamed: 3\n",
      "0     531.77081     1.0   393210.0         NaN\n",
      "1     531.84149     1.0   393210.0         NaN\n",
      "2     531.91216     1.0   214121.0         NaN\n",
      "3     531.98284     1.0    23412.0         NaN\n",
      "4     532.05351     1.0    11086.0         NaN\n",
      "..          ...     ...        ...         ...\n",
      "571   571.76997     1.0     1472.0         NaN\n",
      "572   571.83939     1.0     1486.0         NaN\n",
      "573   571.90881     1.0     1524.0         NaN\n",
      "574   571.97823     1.0     1502.0         NaN\n",
      "575   572.04764     1.0     1794.0         NaN\n",
      "\n",
      "[576 rows x 4 columns],      Wavelength  Filler  Intensity  Unnamed: 3\n",
      "0     531.77081     1.0   393210.0         NaN\n",
      "1     531.84149     1.0   393210.0         NaN\n",
      "2     531.91216     1.0   197919.0         NaN\n",
      "3     531.98284     1.0    22679.0         NaN\n",
      "4     532.05351     1.0    10607.0         NaN\n",
      "..          ...     ...        ...         ...\n",
      "571   571.76997     1.0     1052.0         NaN\n",
      "572   571.83939     1.0     1002.0         NaN\n",
      "573   571.90881     1.0     1058.0         NaN\n",
      "574   571.97823     1.0     1118.0         NaN\n",
      "575   572.04764     1.0     1317.0         NaN\n",
      "\n",
      "[576 rows x 4 columns],      Wavelength  Filler  Intensity  Unnamed: 3\n",
      "0     531.77081     1.0   393210.0         NaN\n",
      "1     531.84149     1.0   393210.0         NaN\n",
      "2     531.91216     1.0   168125.0         NaN\n",
      "3     531.98284     1.0    17131.0         NaN\n",
      "4     532.05351     1.0     7678.0         NaN\n",
      "..          ...     ...        ...         ...\n",
      "571   571.76997     1.0     1257.0         NaN\n",
      "572   571.83939     1.0     1289.0         NaN\n",
      "573   571.90881     1.0     1311.0         NaN\n",
      "574   571.97823     1.0     1260.0         NaN\n",
      "575   572.04764     1.0     1577.0         NaN\n",
      "\n",
      "[576 rows x 4 columns]]\n"
     ]
    }
   ],
   "source": [
    "#Compliling Files Into List of Lists\n",
    "df=[]\n",
    "for element in filenames:\n",
    "    df.append(pd.read_csv(element))\n",
    "print(df)"
   ]
  },
  {
   "cell_type": "code",
   "execution_count": 5,
   "metadata": {
    "scrolled": true
   },
   "outputs": [
    {
     "name": "stdout",
     "output_type": "stream",
     "text": [
      "[     Wavelength  Intensity\n",
      "0     531.77081   393210.0\n",
      "1     531.84149   393210.0\n",
      "2     531.91216   214121.0\n",
      "3     531.98284    23412.0\n",
      "4     532.05351    11086.0\n",
      "..          ...        ...\n",
      "571   571.76997     1472.0\n",
      "572   571.83939     1486.0\n",
      "573   571.90881     1524.0\n",
      "574   571.97823     1502.0\n",
      "575   572.04764     1794.0\n",
      "\n",
      "[576 rows x 2 columns],      Wavelength  Intensity\n",
      "0     531.77081   393210.0\n",
      "1     531.84149   393210.0\n",
      "2     531.91216   197919.0\n",
      "3     531.98284    22679.0\n",
      "4     532.05351    10607.0\n",
      "..          ...        ...\n",
      "571   571.76997     1052.0\n",
      "572   571.83939     1002.0\n",
      "573   571.90881     1058.0\n",
      "574   571.97823     1118.0\n",
      "575   572.04764     1317.0\n",
      "\n",
      "[576 rows x 2 columns],      Wavelength  Intensity\n",
      "0     531.77081   393210.0\n",
      "1     531.84149   393210.0\n",
      "2     531.91216   168125.0\n",
      "3     531.98284    17131.0\n",
      "4     532.05351     7678.0\n",
      "..          ...        ...\n",
      "571   571.76997     1257.0\n",
      "572   571.83939     1289.0\n",
      "573   571.90881     1311.0\n",
      "574   571.97823     1260.0\n",
      "575   572.04764     1577.0\n",
      "\n",
      "[576 rows x 2 columns]]\n"
     ]
    }
   ],
   "source": [
    "#Remove Extra Columns\n",
    "for columns in df:\n",
    "    del columns['Filler']\n",
    "    del columns['Unnamed: 3']\n",
    "print(df)"
   ]
  },
  {
   "cell_type": "code",
   "execution_count": 6,
   "metadata": {},
   "outputs": [
    {
     "name": "stdout",
     "output_type": "stream",
     "text": [
      "['Wavelength', 'Intensity', 'Wavelength', 'Intensity', 'Wavelength', 'Intensity']\n"
     ]
    }
   ],
   "source": [
    "print(list(itertools.chain.from_iterable(df)))"
   ]
  },
  {
   "cell_type": "code",
   "execution_count": 7,
   "metadata": {},
   "outputs": [
    {
     "name": "stdout",
     "output_type": "stream",
     "text": [
      "['Wavelength', 'Intensity', 'Wavelength', 'Intensity', 'Wavelength', 'Intensity']\n"
     ]
    }
   ],
   "source": [
    "flat_list = []\n",
    "for sublist in df:\n",
    "    for item in sublist:\n",
    "        flat_list.append(item)\n",
    "print(flat_list)"
   ]
  },
  {
   "cell_type": "code",
   "execution_count": 8,
   "metadata": {},
   "outputs": [],
   "source": [
    "#is there a way to combine the columns into one group so it would be 576 rows x 8 columns?\n",
    "#methods i tried above only added the headings to a list and lost the rest of the data\n",
    "#pd.concat?"
   ]
  },
  {
   "cell_type": "code",
   "execution_count": 9,
   "metadata": {},
   "outputs": [],
   "source": [
    "#CSV METHOD of combining raman files\n",
    "#Taken from old code using csv to get data that works \n",
    "with open('output.csv', 'w') as writer:\n",
    "    readers = [open(filename) for filename in filenames]\n",
    "    for lines in zip(*readers):\n",
    "        print(' '.join([line.strip() for line in lines]), file=writer)"
   ]
  },
  {
   "cell_type": "code",
   "execution_count": 10,
   "metadata": {
    "scrolled": true
   },
   "outputs": [
    {
     "name": "stdout",
     "output_type": "stream",
     "text": [
      "     Wavelength  Intensity  Wavelength.1  Intensity.1  Wavelength.2  \\\n",
      "0     531.77081   393210.0     531.77081     393210.0     531.77081   \n",
      "1     531.84149   393210.0     531.84149     393210.0     531.84149   \n",
      "2     531.91216   214121.0     531.91216     197919.0     531.91216   \n",
      "3     531.98284    23412.0     531.98284      22679.0     531.98284   \n",
      "4     532.05351    11086.0     532.05351      10607.0     532.05351   \n",
      "..          ...        ...           ...          ...           ...   \n",
      "571   571.76997     1472.0     571.76997       1052.0     571.76997   \n",
      "572   571.83939     1486.0     571.83939       1002.0     571.83939   \n",
      "573   571.90881     1524.0     571.90881       1058.0     571.90881   \n",
      "574   571.97823     1502.0     571.97823       1118.0     571.97823   \n",
      "575   572.04764     1794.0     572.04764       1317.0     572.04764   \n",
      "\n",
      "     Intensity.2  \n",
      "0       393210.0  \n",
      "1       393210.0  \n",
      "2       168125.0  \n",
      "3        17131.0  \n",
      "4         7678.0  \n",
      "..           ...  \n",
      "571       1257.0  \n",
      "572       1289.0  \n",
      "573       1311.0  \n",
      "574       1260.0  \n",
      "575       1577.0  \n",
      "\n",
      "[576 rows x 6 columns]\n"
     ]
    }
   ],
   "source": [
    "#getting rid of filler and NaN columns\n",
    "#add back 9,11\n",
    "dr=pd.read_csv('output.csv', usecols=[0,2,3,5,6,8], skipinitialspace=True)\n",
    "print(dr)"
   ]
  },
  {
   "cell_type": "code",
   "execution_count": 11,
   "metadata": {},
   "outputs": [
    {
     "data": {
      "text/plain": [
       "Text(0, 0.5, 'Intensity')"
      ]
     },
     "execution_count": 11,
     "metadata": {},
     "output_type": "execute_result"
    },
    {
     "data": {
      "image/png": "[encoded data removed]",
      "text/plain": [
       "<Figure size 432x288 with 1 Axes>"
      ]
     },
     "metadata": {
      "needs_background": "light"
     },
     "output_type": "display_data"
    }
   ],
   "source": [
    "#Plotting graph non normalized with rayleigh line\n",
    "plt.plot(dr)\n",
    "plt.title('Non Normalized W/ Rayleigh')\n",
    "plt.xlabel('nm')\n",
    "plt.ylabel('Intensity')"
   ]
  },
  {
   "cell_type": "code",
   "execution_count": 12,
   "metadata": {
    "scrolled": true
   },
   "outputs": [
    {
     "name": "stdout",
     "output_type": "stream",
     "text": [
      "     Wavelength  Intensity  Wavelength.1  Intensity.1  Wavelength.2  \\\n",
      "0     552.80539      898.0     552.80539        637.0     552.80539   \n",
      "1     552.87541      941.0     552.87541        672.0     552.87541   \n",
      "2     552.94543      942.0     552.94543        591.0     552.94543   \n",
      "3     553.01545      886.0     553.01545        585.0     553.01545   \n",
      "4     553.08546      968.0     553.08546        669.0     553.08546   \n",
      "..          ...        ...           ...          ...           ...   \n",
      "272   571.76997     1472.0     571.76997       1052.0     571.76997   \n",
      "273   571.83939     1486.0     571.83939       1002.0     571.83939   \n",
      "274   571.90881     1524.0     571.90881       1058.0     571.90881   \n",
      "275   571.97823     1502.0     571.97823       1118.0     571.97823   \n",
      "276   572.04764     1794.0     572.04764       1317.0     572.04764   \n",
      "\n",
      "     Intensity.2  \n",
      "0         1000.0  \n",
      "1          993.0  \n",
      "2          946.0  \n",
      "3         1017.0  \n",
      "4         1009.0  \n",
      "..           ...  \n",
      "272       1257.0  \n",
      "273       1289.0  \n",
      "274       1311.0  \n",
      "275       1260.0  \n",
      "276       1577.0  \n",
      "\n",
      "[277 rows x 6 columns]\n"
     ]
    }
   ],
   "source": [
    "#skipping first 300 rows to get rid of rayliegh line \n",
    "#add back 9,11\n",
    "dp=pd.read_csv('output.csv', usecols=[0,2,3,5,6,8], skipinitialspace=True, skiprows=[i for i in range (1,300)])\n",
    "print(dp)"
   ]
  },
  {
   "cell_type": "code",
   "execution_count": 13,
   "metadata": {},
   "outputs": [
    {
     "data": {
      "text/plain": [
       "Text(0, 0.5, 'Intensity')"
      ]
     },
     "execution_count": 13,
     "metadata": {},
     "output_type": "execute_result"
    },
    {
     "data": {
      "image/png": "[encoded data removed]",
      "text/plain": [
       "<Figure size 432x288 with 1 Axes>"
      ]
     },
     "metadata": {
      "needs_background": "light"
     },
     "output_type": "display_data"
    }
   ],
   "source": [
    "#Plotting graph not normalized without rayliegh line  \n",
    "#One line still shows up much higher than the rest \n",
    "plt.plot(dp)\n",
    "plt.title('Non Normalized ')\n",
    "plt.xlabel('nm')\n",
    "plt.ylabel('Intensity')"
   ]
  },
  {
   "cell_type": "code",
   "execution_count": 14,
   "metadata": {},
   "outputs": [
    {
     "name": "stdout",
     "output_type": "stream",
     "text": [
      "     Intensity  Intensity.1  Intensity.2\n",
      "0        898.0        637.0       1000.0\n",
      "1        941.0        672.0        993.0\n",
      "2        942.0        591.0        946.0\n",
      "3        886.0        585.0       1017.0\n",
      "4        968.0        669.0       1009.0\n",
      "..         ...          ...          ...\n",
      "272     1472.0       1052.0       1257.0\n",
      "273     1486.0       1002.0       1289.0\n",
      "274     1524.0       1058.0       1311.0\n",
      "275     1502.0       1118.0       1260.0\n",
      "276     1794.0       1317.0       1577.0\n",
      "\n",
      "[277 rows x 3 columns]\n"
     ]
    }
   ],
   "source": [
    "#seperating out Intensity to be normalized \n",
    "#add back 11\n",
    "di=pd.read_csv('output.csv',usecols=[2,5,8], skipinitialspace=True, skiprows=[i for i in range (1,300)])\n",
    "print(di)"
   ]
  },
  {
   "cell_type": "code",
   "execution_count": 15,
   "metadata": {},
   "outputs": [
    {
     "name": "stdout",
     "output_type": "stream",
     "text": [
      "     Wavelength  Intensity  Wavelength.1  Intensity.1  Wavelength.2  \\\n",
      "0     552.80539      898.0     552.80539        637.0     552.80539   \n",
      "1     552.87541      941.0     552.87541        672.0     552.87541   \n",
      "2     552.94543      942.0     552.94543        591.0     552.94543   \n",
      "3     553.01545      886.0     553.01545        585.0     553.01545   \n",
      "4     553.08546      968.0     553.08546        669.0     553.08546   \n",
      "..          ...        ...           ...          ...           ...   \n",
      "272   571.76997     1472.0     571.76997       1052.0     571.76997   \n",
      "273   571.83939     1486.0     571.83939       1002.0     571.83939   \n",
      "274   571.90881     1524.0     571.90881       1058.0     571.90881   \n",
      "275   571.97823     1502.0     571.97823       1118.0     571.97823   \n",
      "276   572.04764     1794.0     572.04764       1317.0     572.04764   \n",
      "\n",
      "     Intensity.2    maxf  \n",
      "0         1000.0  1000.0  \n",
      "1          993.0   993.0  \n",
      "2          946.0   946.0  \n",
      "3         1017.0  1017.0  \n",
      "4         1009.0  1009.0  \n",
      "..           ...     ...  \n",
      "272       1257.0  1472.0  \n",
      "273       1289.0  1486.0  \n",
      "274       1311.0  1524.0  \n",
      "275       1260.0  1502.0  \n",
      "276       1577.0  1794.0  \n",
      "\n",
      "[277 rows x 7 columns]\n"
     ]
    }
   ],
   "source": [
    "#find max value \n",
    "#onty chooses columns that start with I ie Intensity columns \n",
    "cols = list(filter(lambda x: x.startswith('I'), dp.columns))\n",
    "dp['maxf'] = dp[cols].max(axis=1)\n",
    "print(dp)\n",
    "#found max value of overall rows but not overall columns "
   ]
  },
  {
   "cell_type": "code",
   "execution_count": 16,
   "metadata": {},
   "outputs": [
    {
     "name": "stdout",
     "output_type": "stream",
     "text": [
      "             0\n",
      "0    531.77081\n",
      "1    531.84149\n",
      "2    531.91216\n",
      "3    531.98284\n",
      "4    532.05351\n",
      "..         ...\n",
      "571  571.76997\n",
      "572  571.83939\n",
      "573  571.90881\n",
      "574  571.97823\n",
      "575  572.04764\n",
      "\n",
      "[576 rows x 1 columns]\n",
      "18832.391713747646\n"
     ]
    },
    {
     "ename": "TypeError",
     "evalue": "'int' object is not subscriptable",
     "output_type": "error",
     "traceback": [
      "\u001b[0;31m---------------------------------------------------------------------------\u001b[0m",
      "\u001b[0;31mTypeError\u001b[0m                                 Traceback (most recent call last)",
      "\u001b[0;32m<ipython-input-16-3dce41e55f97>\u001b[0m in \u001b[0;36m<module>\u001b[0;34m\u001b[0m\n\u001b[1;32m      9\u001b[0m \u001b[0;31m#second part of conversion\u001b[0m\u001b[0;34m\u001b[0m\u001b[0;34m\u001b[0m\u001b[0;34m\u001b[0m\u001b[0m\n\u001b[1;32m     10\u001b[0m \u001b[0;31m#should i use a for loop to make b evaluated for every row\u001b[0m\u001b[0;34m\u001b[0m\u001b[0;34m\u001b[0m\u001b[0;34m\u001b[0m\u001b[0m\n\u001b[0;32m---> 11\u001b[0;31m \u001b[0mb\u001b[0m\u001b[0;34m=\u001b[0m\u001b[0;34m[\u001b[0m\u001b[0;36m10\u001b[0m\u001b[0;34m**\u001b[0m\u001b[0;36m7\u001b[0m\u001b[0;34m/\u001b[0m\u001b[0mx\u001b[0m\u001b[0;34m[\u001b[0m\u001b[0;36m1\u001b[0m\u001b[0;34m]\u001b[0m \u001b[0;32mfor\u001b[0m \u001b[0mx\u001b[0m \u001b[0;32min\u001b[0m \u001b[0mdw\u001b[0m\u001b[0;34m]\u001b[0m\u001b[0;34m\u001b[0m\u001b[0;34m\u001b[0m\u001b[0m\n\u001b[0m\u001b[1;32m     12\u001b[0m \u001b[0;31m#added together\u001b[0m\u001b[0;34m\u001b[0m\u001b[0;34m\u001b[0m\u001b[0;34m\u001b[0m\u001b[0m\n\u001b[1;32m     13\u001b[0m \u001b[0;31m#should this step and the previous one be one step in order to append it to the end of the dataframe.\u001b[0m\u001b[0;34m\u001b[0m\u001b[0;34m\u001b[0m\u001b[0;34m\u001b[0m\u001b[0m\n",
      "\u001b[0;32m<ipython-input-16-3dce41e55f97>\u001b[0m in \u001b[0;36m<listcomp>\u001b[0;34m(.0)\u001b[0m\n\u001b[1;32m      9\u001b[0m \u001b[0;31m#second part of conversion\u001b[0m\u001b[0;34m\u001b[0m\u001b[0;34m\u001b[0m\u001b[0;34m\u001b[0m\u001b[0m\n\u001b[1;32m     10\u001b[0m \u001b[0;31m#should i use a for loop to make b evaluated for every row\u001b[0m\u001b[0;34m\u001b[0m\u001b[0;34m\u001b[0m\u001b[0;34m\u001b[0m\u001b[0m\n\u001b[0;32m---> 11\u001b[0;31m \u001b[0mb\u001b[0m\u001b[0;34m=\u001b[0m\u001b[0;34m[\u001b[0m\u001b[0;36m10\u001b[0m\u001b[0;34m**\u001b[0m\u001b[0;36m7\u001b[0m\u001b[0;34m/\u001b[0m\u001b[0mx\u001b[0m\u001b[0;34m[\u001b[0m\u001b[0;36m1\u001b[0m\u001b[0;34m]\u001b[0m \u001b[0;32mfor\u001b[0m \u001b[0mx\u001b[0m \u001b[0;32min\u001b[0m \u001b[0mdw\u001b[0m\u001b[0;34m]\u001b[0m\u001b[0;34m\u001b[0m\u001b[0;34m\u001b[0m\u001b[0m\n\u001b[0m\u001b[1;32m     12\u001b[0m \u001b[0;31m#added together\u001b[0m\u001b[0;34m\u001b[0m\u001b[0;34m\u001b[0m\u001b[0;34m\u001b[0m\u001b[0m\n\u001b[1;32m     13\u001b[0m \u001b[0;31m#should this step and the previous one be one step in order to append it to the end of the dataframe.\u001b[0m\u001b[0;34m\u001b[0m\u001b[0;34m\u001b[0m\u001b[0;34m\u001b[0m\u001b[0m\n",
      "\u001b[0;31mTypeError\u001b[0m: 'int' object is not subscriptable"
     ]
    }
   ],
   "source": [
    "#seperate wavelegnth \n",
    "dw=pd.read_csv('output.csv', skipinitialspace=True, usecols=[0], skiprows=1, header=None)\n",
    "print(dw)\n",
    "#nm --> cm^-1\n",
    "Excitation_Wavelength=531\n",
    "#first part of conversion \n",
    "a=10**7/Excitation_Wavelength\n",
    "print(a)\n",
    "#second part of conversion  \n",
    "#should i use a for loop to make b evaluated for every row \n",
    "b=[10**7/x[1] for x in dw]\n",
    "#added together\n",
    "#should this step and the previous one be one step in order to append it to the end of the dataframe.\n",
    "#cm=[a-b]\n",
    "#append new values to dataframe as cm^-1\n",
    "#dw.append(???)\n"
   ]
  },
  {
   "cell_type": "code",
   "execution_count": null,
   "metadata": {},
   "outputs": [],
   "source": [
    "#Plotting graph not normalized in cm^-1 \n",
    "plt.plot()\n",
    "plt.title('Non Normalized')\n",
    "plt.xlabel('cm-1')\n",
    "plt.ylabel('Intensity')"
   ]
  },
  {
   "cell_type": "code",
   "execution_count": null,
   "metadata": {},
   "outputs": [],
   "source": []
  },
  {
   "cell_type": "code",
   "execution_count": null,
   "metadata": {},
   "outputs": [],
   "source": []
  }
 ],
 "metadata": {
  "kernelspec": {
   "display_name": "Python 3",
   "language": "python",
   "name": "python3"
  },
  "language_info": {
   "codemirror_mode": {
    "name": "ipython",
    "version": 3
   },
   "file_extension": ".py",
   "mimetype": "text/x-python",
   "name": "python",
   "nbconvert_exporter": "python",
   "pygments_lexer": "ipython3",
   "version": "3.7.6"
  }
 },
 "nbformat": 4,
 "nbformat_minor": 4
}
